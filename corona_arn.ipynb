{
 "cells": [
  {
   "cell_type": "markdown",
   "metadata": {},
   "source": [
    "# Projet AIOI\n",
    "\n",
    "https://www.kaggle.com/c/stanford-covid-vaccine"
   ]
  },
  {
   "cell_type": "markdown",
   "metadata": {},
   "source": [
    "## Les imports"
   ]
  },
  {
   "cell_type": "code",
   "execution_count": 167,
   "metadata": {},
   "outputs": [],
   "source": [
    "%%capture\n",
    "\n",
    "import csv\n",
    "import numpy as np\n",
    "import pandas as pd\n",
    "from collections import Counter\n",
    "from keras import models\n",
    "from keras import layers\n",
    "from keras import optimizers\n",
    "from keras.utils.vis_utils import plot_model\n",
    "from keras.wrappers.scikit_learn import KerasClassifier\n",
    "import matplotlib.pyplot as plt\n",
    "from sklearn import model_selection\n",
    "import tensorflow as tf\n",
    "\n",
    "# Modules\n",
    "from aioi.data import data\n",
    "from aioi.files import read_file as rf\n",
    "import aioi.graphique.plot as plot\n",
    "from aioi.models import models as mdl"
   ]
  },
  {
   "cell_type": "markdown",
   "metadata": {},
   "source": [
    "## Charger les données"
   ]
  },
  {
   "cell_type": "code",
   "execution_count": 20,
   "metadata": {},
   "outputs": [],
   "source": [
    "arn_train = rf.read_json('./Data/train.json')\n",
    "arn_test = rf.read_json('./Data/test.json')"
   ]
  },
  {
   "cell_type": "code",
   "execution_count": 21,
   "metadata": {},
   "outputs": [
    {
     "data": {
      "text/plain": [
       "(Index(['index', 'id', 'sequence', 'structure', 'predicted_loop_type',\n",
       "        'signal_to_noise', 'SN_filter', 'seq_length', 'seq_scored',\n",
       "        'reactivity_error', 'deg_error_Mg_pH10', 'deg_error_pH10',\n",
       "        'deg_error_Mg_50C', 'deg_error_50C', 'reactivity', 'deg_Mg_pH10',\n",
       "        'deg_pH10', 'deg_Mg_50C', 'deg_50C'],\n",
       "       dtype='object'),\n",
       " Index(['index', 'id', 'sequence', 'structure', 'predicted_loop_type',\n",
       "        'seq_length', 'seq_scored'],\n",
       "       dtype='object'))"
      ]
     },
     "execution_count": 21,
     "metadata": {},
     "output_type": "execute_result"
    }
   ],
   "source": [
    "arn_train.columns, arn_test.columns"
   ]
  },
  {
   "cell_type": "markdown",
   "metadata": {},
   "source": [
    "## Les données"
   ]
  },
  {
   "cell_type": "code",
   "execution_count": 22,
   "metadata": {},
   "outputs": [
    {
     "data": {
      "text/plain": [
       "((2400, 19), 2400, (3634, 7))"
      ]
     },
     "execution_count": 22,
     "metadata": {},
     "output_type": "execute_result"
    }
   ],
   "source": [
    "arn_train.shape, arn_train['id'].nunique(), arn_test.shape"
   ]
  },
  {
   "cell_type": "markdown",
   "metadata": {},
   "source": [
    "<div class=\"alert alert-block alert-warning\">\n",
    "    Nettoyer les données, i.e ne prendre en compte que les ARN qui ont un <bold>SN_filter de 1<bold>\n",
    "</div>"
   ]
  },
  {
   "cell_type": "code",
   "execution_count": 23,
   "metadata": {},
   "outputs": [
    {
     "data": {
      "text/plain": [
       "(1589, 19)"
      ]
     },
     "execution_count": 23,
     "metadata": {},
     "output_type": "execute_result"
    }
   ],
   "source": [
    "arn_train = arn_train.query('SN_filter == 1')\n",
    "arn_train.shape"
   ]
  },
  {
   "cell_type": "code",
   "execution_count": 24,
   "metadata": {},
   "outputs": [
    {
     "data": {
      "text/html": [
       "<div>\n",
       "<style scoped>\n",
       "    .dataframe tbody tr th:only-of-type {\n",
       "        vertical-align: middle;\n",
       "    }\n",
       "\n",
       "    .dataframe tbody tr th {\n",
       "        vertical-align: top;\n",
       "    }\n",
       "\n",
       "    .dataframe thead th {\n",
       "        text-align: right;\n",
       "    }\n",
       "</style>\n",
       "<table border=\"1\" class=\"dataframe\">\n",
       "  <thead>\n",
       "    <tr style=\"text-align: right;\">\n",
       "      <th></th>\n",
       "      <th>index</th>\n",
       "      <th>id</th>\n",
       "      <th>sequence</th>\n",
       "      <th>structure</th>\n",
       "      <th>predicted_loop_type</th>\n",
       "      <th>signal_to_noise</th>\n",
       "      <th>SN_filter</th>\n",
       "      <th>seq_length</th>\n",
       "      <th>seq_scored</th>\n",
       "      <th>reactivity_error</th>\n",
       "      <th>deg_error_Mg_pH10</th>\n",
       "      <th>deg_error_pH10</th>\n",
       "      <th>deg_error_Mg_50C</th>\n",
       "      <th>deg_error_50C</th>\n",
       "      <th>reactivity</th>\n",
       "      <th>deg_Mg_pH10</th>\n",
       "      <th>deg_pH10</th>\n",
       "      <th>deg_Mg_50C</th>\n",
       "      <th>deg_50C</th>\n",
       "    </tr>\n",
       "  </thead>\n",
       "  <tbody>\n",
       "    <tr>\n",
       "      <th>0</th>\n",
       "      <td>0</td>\n",
       "      <td>id_001f94081</td>\n",
       "      <td>GGAAAAGCUCUAAUAACAGGAGACUAGGACUACGUAUUUCUAGGUA...</td>\n",
       "      <td>.....((((((.......)))).)).((.....((..((((((......</td>\n",
       "      <td>EEEEESSSSSSHHHHHHHSSSSBSSXSSIIIIISSIISSSSSSHHH...</td>\n",
       "      <td>6.894</td>\n",
       "      <td>1</td>\n",
       "      <td>107</td>\n",
       "      <td>68</td>\n",
       "      <td>[0.1359, 0.20700000000000002, 0.1633, 0.1452, ...</td>\n",
       "      <td>[0.26130000000000003, 0.38420000000000004, 0.1...</td>\n",
       "      <td>[0.2631, 0.28600000000000003, 0.0964, 0.1574, ...</td>\n",
       "      <td>[0.1501, 0.275, 0.0947, 0.18660000000000002, 0...</td>\n",
       "      <td>[0.2167, 0.34750000000000003, 0.188, 0.2124, 0...</td>\n",
       "      <td>[0.3297, 1.5693000000000001, 1.1227, 0.8686, 0...</td>\n",
       "      <td>[0.7556, 2.983, 0.2526, 1.3789, 0.637600000000...</td>\n",
       "      <td>[2.3375, 3.5060000000000002, 0.3008, 1.0108, 0...</td>\n",
       "      <td>[0.35810000000000003, 2.9683, 0.2589, 1.4552, ...</td>\n",
       "      <td>[0.6382, 3.4773, 0.9988, 1.3228, 0.78770000000...</td>\n",
       "    </tr>\n",
       "    <tr>\n",
       "      <th>2</th>\n",
       "      <td>2</td>\n",
       "      <td>id_006f36f57</td>\n",
       "      <td>GGAAAGUGCUCAGAUAAGCUAAGCUCGAAUAGCAAUCGAAUAGAAU...</td>\n",
       "      <td>.....((((.((.....((((.(((.....)))..((((......)...</td>\n",
       "      <td>EEEEESSSSISSIIIIISSSSMSSSHHHHHSSSMMSSSSHHHHHHS...</td>\n",
       "      <td>8.800</td>\n",
       "      <td>1</td>\n",
       "      <td>107</td>\n",
       "      <td>68</td>\n",
       "      <td>[0.0931, 0.13290000000000002, 0.11280000000000...</td>\n",
       "      <td>[0.1365, 0.2237, 0.1812, 0.1333, 0.1148, 0.160...</td>\n",
       "      <td>[0.17020000000000002, 0.178, 0.111, 0.091, 0.0...</td>\n",
       "      <td>[0.1033, 0.1464, 0.1126, 0.09620000000000001, ...</td>\n",
       "      <td>[0.14980000000000002, 0.1761, 0.1517, 0.116700...</td>\n",
       "      <td>[0.44820000000000004, 1.4822, 1.1819, 0.743400...</td>\n",
       "      <td>[0.2504, 1.4021, 0.9804, 0.49670000000000003, ...</td>\n",
       "      <td>[2.243, 2.9361, 1.0553, 0.721, 0.6396000000000...</td>\n",
       "      <td>[0.5163, 1.6823000000000001, 1.0426, 0.7902, 0...</td>\n",
       "      <td>[0.9501000000000001, 1.7974999999999999, 1.499...</td>\n",
       "    </tr>\n",
       "    <tr>\n",
       "      <th>5</th>\n",
       "      <td>5</td>\n",
       "      <td>id_00ab2d761</td>\n",
       "      <td>GGAAAGCGCCGCGGCGGUAGCGGCAGCGAGGAGCGCUACCAAGGCA...</td>\n",
       "      <td>.....(.(((((.(((((((((...........)))))))..(((....</td>\n",
       "      <td>EEEEESISSSSSISSSSSSSSSHHHHHHHHHHHSSSSSSSMMSSSH...</td>\n",
       "      <td>4.136</td>\n",
       "      <td>1</td>\n",
       "      <td>107</td>\n",
       "      <td>68</td>\n",
       "      <td>[0.1942, 0.2041, 0.1626, 0.1213, 0.10590000000...</td>\n",
       "      <td>[0.2726, 0.2984, 0.21660000000000001, 0.1637, ...</td>\n",
       "      <td>[0.3393, 0.2728, 0.2005, 0.1703, 0.1495, 0.134...</td>\n",
       "      <td>[0.165, 0.20520000000000002, 0.179, 0.1333, 0....</td>\n",
       "      <td>[0.2864, 0.24710000000000001, 0.2222, 0.1903, ...</td>\n",
       "      <td>[0.7642, 1.6641, 1.0622, 0.5008, 0.4107, 0.133...</td>\n",
       "      <td>[0.9559000000000001, 1.9442, 1.0114, 0.5105000...</td>\n",
       "      <td>[1.9554, 2.1298, 1.0403, 0.609, 0.5486, 0.386,...</td>\n",
       "      <td>[0.22460000000000002, 1.7281, 1.381, 0.6623, 0...</td>\n",
       "      <td>[0.5882000000000001, 1.1786, 0.9704, 0.6035, 0...</td>\n",
       "    </tr>\n",
       "    <tr>\n",
       "      <th>6</th>\n",
       "      <td>6</td>\n",
       "      <td>id_00abef1d7</td>\n",
       "      <td>GGAAAACAAUUGCAUCGUUAGUACGACUCCACAGCGUAAGCUGUGG...</td>\n",
       "      <td>.........((((((((......((((((((((((....)))))))...</td>\n",
       "      <td>EEEEEEEEESSSSSSSSIIIIIISSSSSSSSSSSSHHHHSSSSSSS...</td>\n",
       "      <td>2.485</td>\n",
       "      <td>1</td>\n",
       "      <td>107</td>\n",
       "      <td>68</td>\n",
       "      <td>[0.422, 0.5478000000000001, 0.4749000000000000...</td>\n",
       "      <td>[0.4801, 0.7943, 0.42160000000000003, 0.397300...</td>\n",
       "      <td>[0.9822000000000001, 1.272, 0.6940000000000001...</td>\n",
       "      <td>[0.5827, 0.7555000000000001, 0.5949, 0.4511, 0...</td>\n",
       "      <td>[0.9306000000000001, 1.0496, 0.5844, 0.7796000...</td>\n",
       "      <td>[0.895, 2.3377, 2.2305, 2.003, 1.9006, 1.0373,...</td>\n",
       "      <td>[0.46040000000000003, 3.6695, 0.78550000000000...</td>\n",
       "      <td>[2.7711, 7.365, 1.6924000000000001, 1.43840000...</td>\n",
       "      <td>[1.073, 2.8604000000000003, 1.9936, 1.0273, 1....</td>\n",
       "      <td>[2.0964, 3.3688000000000002, 0.6399, 2.1053, 1...</td>\n",
       "    </tr>\n",
       "    <tr>\n",
       "      <th>7</th>\n",
       "      <td>7</td>\n",
       "      <td>id_00b436dec</td>\n",
       "      <td>GGAAAUCAUCGAGGACGGGUCCGUUCAGCACGCGAAAGCGUCGUGA...</td>\n",
       "      <td>.....(((((((((((..(((((((((..((((....))))..)))...</td>\n",
       "      <td>EEEEESSSSSSSSSSSIISSSSSSSSSIISSSSHHHHSSSSIISSS...</td>\n",
       "      <td>1.727</td>\n",
       "      <td>1</td>\n",
       "      <td>107</td>\n",
       "      <td>68</td>\n",
       "      <td>[0.4843, 0.5233, 0.4554, 0.43520000000000003, ...</td>\n",
       "      <td>[0.8719, 1.0307, 0.6649, 0.34500000000000003, ...</td>\n",
       "      <td>[0.7045, 0.7775000000000001, 0.5662, 0.4561, 0...</td>\n",
       "      <td>[0.384, 0.723, 0.4766, 0.30260000000000004, 0....</td>\n",
       "      <td>[0.7429, 0.9137000000000001, 0.480400000000000...</td>\n",
       "      <td>[1.1576, 1.5137, 1.3382, 1.5622, 1.2121, 0.295...</td>\n",
       "      <td>[1.6912, 5.2652, 2.3901, 0.45890000000000003, ...</td>\n",
       "      <td>[1.8641, 2.3767, 1.149, 1.0132, 0.9876, 0.0, 0...</td>\n",
       "      <td>[0.49060000000000004, 4.6339, 1.95860000000000...</td>\n",
       "      <td>[1.2852000000000001, 2.5460000000000003, 0.234...</td>\n",
       "    </tr>\n",
       "  </tbody>\n",
       "</table>\n",
       "</div>"
      ],
      "text/plain": [
       "   index            id                                           sequence  \\\n",
       "0      0  id_001f94081  GGAAAAGCUCUAAUAACAGGAGACUAGGACUACGUAUUUCUAGGUA...   \n",
       "2      2  id_006f36f57  GGAAAGUGCUCAGAUAAGCUAAGCUCGAAUAGCAAUCGAAUAGAAU...   \n",
       "5      5  id_00ab2d761  GGAAAGCGCCGCGGCGGUAGCGGCAGCGAGGAGCGCUACCAAGGCA...   \n",
       "6      6  id_00abef1d7  GGAAAACAAUUGCAUCGUUAGUACGACUCCACAGCGUAAGCUGUGG...   \n",
       "7      7  id_00b436dec  GGAAAUCAUCGAGGACGGGUCCGUUCAGCACGCGAAAGCGUCGUGA...   \n",
       "\n",
       "                                           structure  \\\n",
       "0  .....((((((.......)))).)).((.....((..((((((......   \n",
       "2  .....((((.((.....((((.(((.....)))..((((......)...   \n",
       "5  .....(.(((((.(((((((((...........)))))))..(((....   \n",
       "6  .........((((((((......((((((((((((....)))))))...   \n",
       "7  .....(((((((((((..(((((((((..((((....))))..)))...   \n",
       "\n",
       "                                 predicted_loop_type  signal_to_noise  \\\n",
       "0  EEEEESSSSSSHHHHHHHSSSSBSSXSSIIIIISSIISSSSSSHHH...            6.894   \n",
       "2  EEEEESSSSISSIIIIISSSSMSSSHHHHHSSSMMSSSSHHHHHHS...            8.800   \n",
       "5  EEEEESISSSSSISSSSSSSSSHHHHHHHHHHHSSSSSSSMMSSSH...            4.136   \n",
       "6  EEEEEEEEESSSSSSSSIIIIIISSSSSSSSSSSSHHHHSSSSSSS...            2.485   \n",
       "7  EEEEESSSSSSSSSSSIISSSSSSSSSIISSSSHHHHSSSSIISSS...            1.727   \n",
       "\n",
       "   SN_filter  seq_length  seq_scored  \\\n",
       "0          1         107          68   \n",
       "2          1         107          68   \n",
       "5          1         107          68   \n",
       "6          1         107          68   \n",
       "7          1         107          68   \n",
       "\n",
       "                                    reactivity_error  \\\n",
       "0  [0.1359, 0.20700000000000002, 0.1633, 0.1452, ...   \n",
       "2  [0.0931, 0.13290000000000002, 0.11280000000000...   \n",
       "5  [0.1942, 0.2041, 0.1626, 0.1213, 0.10590000000...   \n",
       "6  [0.422, 0.5478000000000001, 0.4749000000000000...   \n",
       "7  [0.4843, 0.5233, 0.4554, 0.43520000000000003, ...   \n",
       "\n",
       "                                   deg_error_Mg_pH10  \\\n",
       "0  [0.26130000000000003, 0.38420000000000004, 0.1...   \n",
       "2  [0.1365, 0.2237, 0.1812, 0.1333, 0.1148, 0.160...   \n",
       "5  [0.2726, 0.2984, 0.21660000000000001, 0.1637, ...   \n",
       "6  [0.4801, 0.7943, 0.42160000000000003, 0.397300...   \n",
       "7  [0.8719, 1.0307, 0.6649, 0.34500000000000003, ...   \n",
       "\n",
       "                                      deg_error_pH10  \\\n",
       "0  [0.2631, 0.28600000000000003, 0.0964, 0.1574, ...   \n",
       "2  [0.17020000000000002, 0.178, 0.111, 0.091, 0.0...   \n",
       "5  [0.3393, 0.2728, 0.2005, 0.1703, 0.1495, 0.134...   \n",
       "6  [0.9822000000000001, 1.272, 0.6940000000000001...   \n",
       "7  [0.7045, 0.7775000000000001, 0.5662, 0.4561, 0...   \n",
       "\n",
       "                                    deg_error_Mg_50C  \\\n",
       "0  [0.1501, 0.275, 0.0947, 0.18660000000000002, 0...   \n",
       "2  [0.1033, 0.1464, 0.1126, 0.09620000000000001, ...   \n",
       "5  [0.165, 0.20520000000000002, 0.179, 0.1333, 0....   \n",
       "6  [0.5827, 0.7555000000000001, 0.5949, 0.4511, 0...   \n",
       "7  [0.384, 0.723, 0.4766, 0.30260000000000004, 0....   \n",
       "\n",
       "                                       deg_error_50C  \\\n",
       "0  [0.2167, 0.34750000000000003, 0.188, 0.2124, 0...   \n",
       "2  [0.14980000000000002, 0.1761, 0.1517, 0.116700...   \n",
       "5  [0.2864, 0.24710000000000001, 0.2222, 0.1903, ...   \n",
       "6  [0.9306000000000001, 1.0496, 0.5844, 0.7796000...   \n",
       "7  [0.7429, 0.9137000000000001, 0.480400000000000...   \n",
       "\n",
       "                                          reactivity  \\\n",
       "0  [0.3297, 1.5693000000000001, 1.1227, 0.8686, 0...   \n",
       "2  [0.44820000000000004, 1.4822, 1.1819, 0.743400...   \n",
       "5  [0.7642, 1.6641, 1.0622, 0.5008, 0.4107, 0.133...   \n",
       "6  [0.895, 2.3377, 2.2305, 2.003, 1.9006, 1.0373,...   \n",
       "7  [1.1576, 1.5137, 1.3382, 1.5622, 1.2121, 0.295...   \n",
       "\n",
       "                                         deg_Mg_pH10  \\\n",
       "0  [0.7556, 2.983, 0.2526, 1.3789, 0.637600000000...   \n",
       "2  [0.2504, 1.4021, 0.9804, 0.49670000000000003, ...   \n",
       "5  [0.9559000000000001, 1.9442, 1.0114, 0.5105000...   \n",
       "6  [0.46040000000000003, 3.6695, 0.78550000000000...   \n",
       "7  [1.6912, 5.2652, 2.3901, 0.45890000000000003, ...   \n",
       "\n",
       "                                            deg_pH10  \\\n",
       "0  [2.3375, 3.5060000000000002, 0.3008, 1.0108, 0...   \n",
       "2  [2.243, 2.9361, 1.0553, 0.721, 0.6396000000000...   \n",
       "5  [1.9554, 2.1298, 1.0403, 0.609, 0.5486, 0.386,...   \n",
       "6  [2.7711, 7.365, 1.6924000000000001, 1.43840000...   \n",
       "7  [1.8641, 2.3767, 1.149, 1.0132, 0.9876, 0.0, 0...   \n",
       "\n",
       "                                          deg_Mg_50C  \\\n",
       "0  [0.35810000000000003, 2.9683, 0.2589, 1.4552, ...   \n",
       "2  [0.5163, 1.6823000000000001, 1.0426, 0.7902, 0...   \n",
       "5  [0.22460000000000002, 1.7281, 1.381, 0.6623, 0...   \n",
       "6  [1.073, 2.8604000000000003, 1.9936, 1.0273, 1....   \n",
       "7  [0.49060000000000004, 4.6339, 1.95860000000000...   \n",
       "\n",
       "                                             deg_50C  \n",
       "0  [0.6382, 3.4773, 0.9988, 1.3228, 0.78770000000...  \n",
       "2  [0.9501000000000001, 1.7974999999999999, 1.499...  \n",
       "5  [0.5882000000000001, 1.1786, 0.9704, 0.6035, 0...  \n",
       "6  [2.0964, 3.3688000000000002, 0.6399, 2.1053, 1...  \n",
       "7  [1.2852000000000001, 2.5460000000000003, 0.234...  "
      ]
     },
     "execution_count": 24,
     "metadata": {},
     "output_type": "execute_result"
    }
   ],
   "source": [
    "arn_train.head()"
   ]
  },
  {
   "cell_type": "code",
   "execution_count": 25,
   "metadata": {},
   "outputs": [
    {
     "data": {
      "text/html": [
       "<div>\n",
       "<style scoped>\n",
       "    .dataframe tbody tr th:only-of-type {\n",
       "        vertical-align: middle;\n",
       "    }\n",
       "\n",
       "    .dataframe tbody tr th {\n",
       "        vertical-align: top;\n",
       "    }\n",
       "\n",
       "    .dataframe thead th {\n",
       "        text-align: right;\n",
       "    }\n",
       "</style>\n",
       "<table border=\"1\" class=\"dataframe\">\n",
       "  <thead>\n",
       "    <tr style=\"text-align: right;\">\n",
       "      <th></th>\n",
       "      <th>index</th>\n",
       "      <th>id</th>\n",
       "      <th>sequence</th>\n",
       "      <th>structure</th>\n",
       "      <th>predicted_loop_type</th>\n",
       "      <th>seq_length</th>\n",
       "      <th>seq_scored</th>\n",
       "    </tr>\n",
       "  </thead>\n",
       "  <tbody>\n",
       "    <tr>\n",
       "      <th>0</th>\n",
       "      <td>0</td>\n",
       "      <td>id_00073f8be</td>\n",
       "      <td>GGAAAAGUACGACUUGAGUACGGAAAACGUACCAACUCGAUUAAAA...</td>\n",
       "      <td>......((((((((((.(((((.....))))))))((((((((......</td>\n",
       "      <td>EEEEEESSSSSSSSSSBSSSSSHHHHHSSSSSSSSSSSSSSSSHHH...</td>\n",
       "      <td>107</td>\n",
       "      <td>68</td>\n",
       "    </tr>\n",
       "    <tr>\n",
       "      <th>1</th>\n",
       "      <td>1</td>\n",
       "      <td>id_000ae4237</td>\n",
       "      <td>GGAAACGGGUUCCGCGGAUUGCUGCUAAUAAGAGUAAUCUCUAAAU...</td>\n",
       "      <td>.....((((..((((((...(((((.....((((....)))).......</td>\n",
       "      <td>EEEEESSSSIISSSSSSIIISSSSSIIIIISSSSHHHHSSSSIIII...</td>\n",
       "      <td>130</td>\n",
       "      <td>91</td>\n",
       "    </tr>\n",
       "    <tr>\n",
       "      <th>2</th>\n",
       "      <td>2</td>\n",
       "      <td>id_00131c573</td>\n",
       "      <td>GGAAAACAAAACGGCCUGGAAGACGAAGGAAUUCGGCGCGAAGGCC...</td>\n",
       "      <td>...........((.(((.(.(..((..((..((((...))))..))...</td>\n",
       "      <td>EEEEEEEEEEESSISSSISISIISSIISSIISSSSHHHSSSSIISS...</td>\n",
       "      <td>107</td>\n",
       "      <td>68</td>\n",
       "    </tr>\n",
       "    <tr>\n",
       "      <th>3</th>\n",
       "      <td>3</td>\n",
       "      <td>id_00181fd34</td>\n",
       "      <td>GGAAAGGAUCUCUAUCGAAGGAUAGAGAUCGCUCGCGACGGCACGA...</td>\n",
       "      <td>......((((((((((....))))))))))((((((..((.(((.....</td>\n",
       "      <td>EEEEEESSSSSSSSSSHHHHSSSSSSSSSSSSSSSSIISSISSSHH...</td>\n",
       "      <td>107</td>\n",
       "      <td>68</td>\n",
       "    </tr>\n",
       "    <tr>\n",
       "      <th>4</th>\n",
       "      <td>4</td>\n",
       "      <td>id_0020473f7</td>\n",
       "      <td>GGAAACCCGCCCGCGCCCGCCCGCGCUGCUGCCGUGCCUCCUCUCC...</td>\n",
       "      <td>.....(((((((((((((((((((((((((((((((((((((((((...</td>\n",
       "      <td>EEEEESSSSSSSSSSSSSSSSSSSSSSSSSSSSSSSSSSSSSSSSS...</td>\n",
       "      <td>130</td>\n",
       "      <td>91</td>\n",
       "    </tr>\n",
       "  </tbody>\n",
       "</table>\n",
       "</div>"
      ],
      "text/plain": [
       "   index            id                                           sequence  \\\n",
       "0      0  id_00073f8be  GGAAAAGUACGACUUGAGUACGGAAAACGUACCAACUCGAUUAAAA...   \n",
       "1      1  id_000ae4237  GGAAACGGGUUCCGCGGAUUGCUGCUAAUAAGAGUAAUCUCUAAAU...   \n",
       "2      2  id_00131c573  GGAAAACAAAACGGCCUGGAAGACGAAGGAAUUCGGCGCGAAGGCC...   \n",
       "3      3  id_00181fd34  GGAAAGGAUCUCUAUCGAAGGAUAGAGAUCGCUCGCGACGGCACGA...   \n",
       "4      4  id_0020473f7  GGAAACCCGCCCGCGCCCGCCCGCGCUGCUGCCGUGCCUCCUCUCC...   \n",
       "\n",
       "                                           structure  \\\n",
       "0  ......((((((((((.(((((.....))))))))((((((((......   \n",
       "1  .....((((..((((((...(((((.....((((....)))).......   \n",
       "2  ...........((.(((.(.(..((..((..((((...))))..))...   \n",
       "3  ......((((((((((....))))))))))((((((..((.(((.....   \n",
       "4  .....(((((((((((((((((((((((((((((((((((((((((...   \n",
       "\n",
       "                                 predicted_loop_type  seq_length  seq_scored  \n",
       "0  EEEEEESSSSSSSSSSBSSSSSHHHHHSSSSSSSSSSSSSSSSHHH...         107          68  \n",
       "1  EEEEESSSSIISSSSSSIIISSSSSIIIIISSSSHHHHSSSSIIII...         130          91  \n",
       "2  EEEEEEEEEEESSISSSISISIISSIISSIISSSSHHHSSSSIISS...         107          68  \n",
       "3  EEEEEESSSSSSSSSSHHHHSSSSSSSSSSSSSSSSIISSISSSHH...         107          68  \n",
       "4  EEEEESSSSSSSSSSSSSSSSSSSSSSSSSSSSSSSSSSSSSSSSS...         130          91  "
      ]
     },
     "execution_count": 25,
     "metadata": {},
     "output_type": "execute_result"
    }
   ],
   "source": [
    "arn_test.head()"
   ]
  },
  {
   "cell_type": "code",
   "execution_count": 26,
   "metadata": {},
   "outputs": [
    {
     "data": {
      "text/plain": [
       "(Counter({107: 1589}),\n",
       " Counter({107: 629, 130: 3005}),\n",
       " Counter({68: 629, 91: 3005}))"
      ]
     },
     "execution_count": 26,
     "metadata": {},
     "output_type": "execute_result"
    }
   ],
   "source": [
    "Counter(arn_train['seq_length']), Counter(arn_test['seq_length']), Counter(arn_test['seq_scored'])"
   ]
  },
  {
   "cell_type": "markdown",
   "metadata": {},
   "source": [
    "Un traitement préalable des arn_train & arn_test va être réalisé :\n",
    "\n",
    "> Séquence de taille 107\n",
    "\n",
    "- Part1: seq[:68]\n",
    "- Part2: seq[107-68:]\n",
    "\n",
    "> Séquence de taille 130\n",
    "\n",
    "- Part1: seq[:68]\n",
    "- Part2: seq[130-68:]\n",
    "\n",
    "Ce traitement permet d'obtenir des séquences de tailles 68 qui correspond à la taille minimum des séquence scored."
   ]
  },
  {
   "cell_type": "markdown",
   "metadata": {},
   "source": [
    "### Input x"
   ]
  },
  {
   "cell_type": "code",
   "execution_count": 27,
   "metadata": {},
   "outputs": [
    {
     "data": {
      "text/plain": [
       "(1589, 19)"
      ]
     },
     "execution_count": 27,
     "metadata": {},
     "output_type": "execute_result"
    }
   ],
   "source": [
    "arn_train.shape"
   ]
  },
  {
   "cell_type": "code",
   "execution_count": 38,
   "metadata": {},
   "outputs": [
    {
     "data": {
      "text/plain": [
       "(3178, 6)"
      ]
     },
     "execution_count": 38,
     "metadata": {},
     "output_type": "execute_result"
    }
   ],
   "source": [
    "train_data = data.formatage_x(arn_train)\n",
    "train_data.shape"
   ]
  },
  {
   "cell_type": "code",
   "execution_count": 29,
   "metadata": {},
   "outputs": [
    {
     "data": {
      "text/html": [
       "<div>\n",
       "<style scoped>\n",
       "    .dataframe tbody tr th:only-of-type {\n",
       "        vertical-align: middle;\n",
       "    }\n",
       "\n",
       "    .dataframe tbody tr th {\n",
       "        vertical-align: top;\n",
       "    }\n",
       "\n",
       "    .dataframe thead th {\n",
       "        text-align: right;\n",
       "    }\n",
       "</style>\n",
       "<table border=\"1\" class=\"dataframe\">\n",
       "  <thead>\n",
       "    <tr style=\"text-align: right;\">\n",
       "      <th></th>\n",
       "      <th>index</th>\n",
       "      <th>id</th>\n",
       "      <th>sequence</th>\n",
       "      <th>structure</th>\n",
       "      <th>predicted_loop_type</th>\n",
       "      <th>seq_length</th>\n",
       "    </tr>\n",
       "  </thead>\n",
       "  <tbody>\n",
       "    <tr>\n",
       "      <th>0</th>\n",
       "      <td>0</td>\n",
       "      <td>id_001f94081</td>\n",
       "      <td>GGAAAAGCUCUAAUAACAGGAGACUAGGACUACGUAUUUCUAGGUA...</td>\n",
       "      <td>.....((((((.......)))).)).((.....((..((((((......</td>\n",
       "      <td>EEEEESSSSSSHHHHHHHSSSSBSSXSSIIIIISSIISSSSSSHHH...</td>\n",
       "      <td>107</td>\n",
       "    </tr>\n",
       "    <tr>\n",
       "      <th>1</th>\n",
       "      <td>0</td>\n",
       "      <td></td>\n",
       "      <td>CUAGGUAACUGGAAUAACCCAUACCAGCAGUUAGAGUUCGCUCUAA...</td>\n",
       "      <td>((((....))))))..)).....))....(((((((....))))))...</td>\n",
       "      <td>SSSSHHHHSSSSSSIISSIIIIISSXXXXSSSSSSSHHHHSSSSSS...</td>\n",
       "      <td>107</td>\n",
       "    </tr>\n",
       "    <tr>\n",
       "      <th>2</th>\n",
       "      <td>2</td>\n",
       "      <td>id_006f36f57</td>\n",
       "      <td>GGAAAGUGCUCAGAUAAGCUAAGCUCGAAUAGCAAUCGAAUAGAAU...</td>\n",
       "      <td>.....((((.((.....((((.(((.....)))..((((......)...</td>\n",
       "      <td>EEEEESSSSISSIIIIISSSSMSSSHHHHHSSSMMSSSSHHHHHHS...</td>\n",
       "      <td>107</td>\n",
       "    </tr>\n",
       "    <tr>\n",
       "      <th>3</th>\n",
       "      <td>2</td>\n",
       "      <td></td>\n",
       "      <td>AUAGAAUCGAAAUAGCAUCGAUGUGUAUAUGGGUGGUUCGCCGCUC...</td>\n",
       "      <td>......))))..)))).....)).)))).(((((((....))))))...</td>\n",
       "      <td>HHHHHHSSSSMMSSSSIIIIISSISSSSXSSSSSSSHHHHSSSSSS...</td>\n",
       "      <td>107</td>\n",
       "    </tr>\n",
       "    <tr>\n",
       "      <th>4</th>\n",
       "      <td>5</td>\n",
       "      <td>id_00ab2d761</td>\n",
       "      <td>GGAAAGCGCCGCGGCGGUAGCGGCAGCGAGGAGCGCUACCAAGGCA...</td>\n",
       "      <td>.....(.(((((.(((((((((...........)))))))..(((....</td>\n",
       "      <td>EEEEESISSSSSISSSSSSSSSHHHHHHHHHHHSSSSSSSMMSSSH...</td>\n",
       "      <td>107</td>\n",
       "    </tr>\n",
       "  </tbody>\n",
       "</table>\n",
       "</div>"
      ],
      "text/plain": [
       "   index            id                                           sequence  \\\n",
       "0      0  id_001f94081  GGAAAAGCUCUAAUAACAGGAGACUAGGACUACGUAUUUCUAGGUA...   \n",
       "1      0                CUAGGUAACUGGAAUAACCCAUACCAGCAGUUAGAGUUCGCUCUAA...   \n",
       "2      2  id_006f36f57  GGAAAGUGCUCAGAUAAGCUAAGCUCGAAUAGCAAUCGAAUAGAAU...   \n",
       "3      2                AUAGAAUCGAAAUAGCAUCGAUGUGUAUAUGGGUGGUUCGCCGCUC...   \n",
       "4      5  id_00ab2d761  GGAAAGCGCCGCGGCGGUAGCGGCAGCGAGGAGCGCUACCAAGGCA...   \n",
       "\n",
       "                                           structure  \\\n",
       "0  .....((((((.......)))).)).((.....((..((((((......   \n",
       "1  ((((....))))))..)).....))....(((((((....))))))...   \n",
       "2  .....((((.((.....((((.(((.....)))..((((......)...   \n",
       "3  ......))))..)))).....)).)))).(((((((....))))))...   \n",
       "4  .....(.(((((.(((((((((...........)))))))..(((....   \n",
       "\n",
       "                                 predicted_loop_type  seq_length  \n",
       "0  EEEEESSSSSSHHHHHHHSSSSBSSXSSIIIIISSIISSSSSSHHH...         107  \n",
       "1  SSSSHHHHSSSSSSIISSIIIIISSXXXXSSSSSSSHHHHSSSSSS...         107  \n",
       "2  EEEEESSSSISSIIIIISSSSMSSSHHHHHSSSMMSSSSHHHHHHS...         107  \n",
       "3  HHHHHHSSSSMMSSSSIIIIISSISSSSXSSSSSSSHHHHSSSSSS...         107  \n",
       "4  EEEEESISSSSSISSSSSSSSSHHHHHHHHHHHSSSSSSSMMSSSH...         107  "
      ]
     },
     "execution_count": 29,
     "metadata": {},
     "output_type": "execute_result"
    }
   ],
   "source": [
    "train_data.head()"
   ]
  },
  {
   "cell_type": "markdown",
   "metadata": {},
   "source": [
    "> One hot encoding des séquences"
   ]
  },
  {
   "cell_type": "code",
   "execution_count": 30,
   "metadata": {},
   "outputs": [
    {
     "data": {
      "text/plain": [
       "(3178, 68, 4)"
      ]
     },
     "execution_count": 30,
     "metadata": {},
     "output_type": "execute_result"
    }
   ],
   "source": [
    "x_seq = data.x_sequence(train_data['sequence'])\n",
    "x_seq.shape"
   ]
  },
  {
   "cell_type": "markdown",
   "metadata": {},
   "source": [
    "> One hot encoding des structures"
   ]
  },
  {
   "cell_type": "code",
   "execution_count": 31,
   "metadata": {},
   "outputs": [
    {
     "data": {
      "text/plain": [
       "(3178, 68, 3)"
      ]
     },
     "execution_count": 31,
     "metadata": {},
     "output_type": "execute_result"
    }
   ],
   "source": [
    "x_struc = data.x_structure(train_data['structure'])\n",
    "x_struc.shape"
   ]
  },
  {
   "cell_type": "markdown",
   "metadata": {},
   "source": [
    "> One hot encoding des loops type"
   ]
  },
  {
   "cell_type": "code",
   "execution_count": 32,
   "metadata": {},
   "outputs": [
    {
     "data": {
      "text/plain": [
       "(3178, 68, 7)"
      ]
     },
     "execution_count": 32,
     "metadata": {},
     "output_type": "execute_result"
    }
   ],
   "source": [
    "x_loops = data.x_predicted_loops(train_data['predicted_loop_type'])\n",
    "x_loops.shape"
   ]
  },
  {
   "cell_type": "markdown",
   "metadata": {},
   "source": [
    "> Regroupement dans une seul matrice de dimension (2400, 107, 14)\n",
    "\n",
    "Avec\n",
    "\n",
    "- 2400: le nombre d'ARN\n",
    "- 68: la taille des séquences\n",
    "- 14: le nombre de classes (4+3+7)"
   ]
  },
  {
   "cell_type": "code",
   "execution_count": 33,
   "metadata": {},
   "outputs": [
    {
     "data": {
      "text/plain": [
       "(3178, 68, 14)"
      ]
     },
     "execution_count": 33,
     "metadata": {},
     "output_type": "execute_result"
    }
   ],
   "source": [
    "x_train = data.x_concatenation(x_seq, x_struc, x_loops)\n",
    "x_train.shape"
   ]
  },
  {
   "cell_type": "markdown",
   "metadata": {},
   "source": [
    "### Output y"
   ]
  },
  {
   "cell_type": "code",
   "execution_count": 34,
   "metadata": {},
   "outputs": [
    {
     "data": {
      "text/plain": [
       "(1589, 5)"
      ]
     },
     "execution_count": 34,
     "metadata": {},
     "output_type": "execute_result"
    }
   ],
   "source": [
    "col_names = ['reactivity', 'deg_Mg_pH10', 'deg_pH10', 'deg_Mg_50C', 'deg_50C']\n",
    "Y_output = arn_train[col_names]\n",
    "Y_output.shape"
   ]
  },
  {
   "cell_type": "markdown",
   "metadata": {},
   "source": [
    "> Formatage Y_output"
   ]
  },
  {
   "cell_type": "code",
   "execution_count": 36,
   "metadata": {},
   "outputs": [
    {
     "name": "stdout",
     "output_type": "stream",
     "text": [
      "Y_train shape: (3178, 68, 5)\n",
      "\n"
     ]
    }
   ],
   "source": [
    "y_train = data.y_output(Y_output)"
   ]
  },
  {
   "cell_type": "markdown",
   "metadata": {},
   "source": [
    "# Modèle keras "
   ]
  },
  {
   "cell_type": "code",
   "execution_count": null,
   "metadata": {},
   "outputs": [],
   "source": [
    "def resize_shape_data(model):\n",
    "    model = layers.Conv1D(\n",
    "        filters=5, kernel_size=(20,), activation=\"relu\")(model)\n",
    "    model = layers.Conv1D(\n",
    "        filters=5, kernel_size=(20,), activation=\"relu\")(model)\n",
    "    model = layers.Conv1D(\n",
    "        filters=5, kernel_size=(2,), activation=\"relu\")(model)\n",
    "\n",
    "    return model\n",
    "\n",
    "def model_simple(input_shape, learning_rate):\n",
    "    \"\"\"\n",
    "    Définition d'un 1er modèle simple.\n",
    "    \"\"\"\n",
    "    # Convolution layers\n",
    "    input_ = layers.Input(shape = input_shape)\n",
    "\n",
    "    conv_1 = layers.Conv1D(\n",
    "        filters=45, kernel_size=(3,), activation=\"relu\", padding=\"same\")(input_)\n",
    "    conv_2 = layers.Conv1D(\n",
    "        filters=35, kernel_size=(3,), activation=\"relu\", padding=\"same\")(conv_1)\n",
    "    conv_3 = layers.Conv1D(\n",
    "        filters=25, kernel_size=(3,), activation=\"relu\", padding=\"same\")(conv_2)\n",
    "    conv_4 = layers.Conv1D(\n",
    "        filters=15, kernel_size=(3,), activation=\"relu\", padding=\"same\")(conv_3)\n",
    "\n",
    "    # Output layer - resize shape of the data to fit with the ouput (68,5)\n",
    "    output = resize_shape_data(conv_4)\n",
    "    model = models.Model(inputs=input_, outputs=output)\n",
    "\n",
    "    # Compilation\n",
    "    opt = optimizers.SGD(lr=learning_rate)\n",
    "    model.compile(loss='mse', optimizer=opt, metrics=['mse'])\n",
    "\n",
    "    return model"
   ]
  },
  {
   "cell_type": "markdown",
   "metadata": {},
   "source": [
    "# Modèle apprentissage"
   ]
  },
  {
   "cell_type": "markdown",
   "metadata": {},
   "source": [
    "# History\n",
    "\n",
    "## Load history"
   ]
  },
  {
   "cell_type": "code",
   "execution_count": null,
   "metadata": {},
   "outputs": [],
   "source": [
    "history = rf.load_history()"
   ]
  },
  {
   "cell_type": "markdown",
   "metadata": {},
   "source": [
    "## Plot loss & mse"
   ]
  },
  {
   "cell_type": "code",
   "execution_count": null,
   "metadata": {},
   "outputs": [],
   "source": [
    "for mdl in history:\n",
    "    \n",
    "    label = [('loss', 'val_loss'), ('mse', 'val_mse')]\n",
    "    title = ['Model loss', 'Model mse']\n",
    "    \n",
    "    fig, axs = plt.subplots(2, 1, figsize=(12,10), constrained_layout=True)\n",
    "    \n",
    "    for i in range(2):\n",
    "        axs[i].plot(history[mdl][label[i][0]], color=\"#8b1538\", label=label[i][0])\n",
    "        axs[i].plot(history[mdl][label[i][1]], color=\"#1F618D\", label=label[i][1])\n",
    "        axs[i].set_title(title[i], fontsize=\"x-large\")\n",
    "        \n",
    "        # Ajouter la légende au dessus du plot sans changer sa taille\n",
    "        axs[i].legend(loc=1, ncol=1, fontsize=\"x-large\")\n",
    "        \n",
    "    fig.suptitle(mdl, fontsize=\"xx-large\")\n",
    "    break"
   ]
  },
  {
   "cell_type": "markdown",
   "metadata": {},
   "source": [
    "## Save + load model dans un fichier h5"
   ]
  },
  {
   "cell_type": "code",
   "execution_count": 15,
   "metadata": {},
   "outputs": [],
   "source": [
    "keras_models = rf.load_keras_models()"
   ]
  },
  {
   "cell_type": "code",
   "execution_count": 16,
   "metadata": {},
   "outputs": [
    {
     "data": {
      "text/plain": [
       "{'model_resnet_15': <keras.engine.training.Model at 0x7f57a6d11650>,\n",
       " 'model_scatter_data': <keras.engine.training.Model at 0x7f57a6cd7f50>,\n",
       " 'model_inception': <keras.engine.training.Model at 0x7f57a00753d0>,\n",
       " 'model_compact_data': <keras.engine.training.Model at 0x7f57a00c6dd0>,\n",
       " 'model_simple': <keras.engine.training.Model at 0x7f57a6cd7450>,\n",
       " 'model_resnext': <keras.engine.training.Model at 0x7f575643af90>}"
      ]
     },
     "execution_count": 16,
     "metadata": {},
     "output_type": "execute_result"
    }
   ],
   "source": [
    "keras_models"
   ]
  },
  {
   "cell_type": "code",
   "execution_count": 39,
   "metadata": {},
   "outputs": [
    {
     "name": "stdout",
     "output_type": "stream",
     "text": [
      "Data frame arn_test shape: (7268, 6)\n",
      "Sequences shape: (7268, 68, 4) - 4 classes\n",
      "Structures shape: (7268, 68, 3) - 3 classes\n",
      "Loops shape: (7268, 68, 7) - 7 classes\n",
      "x_new shape: (7268, 68, 14)\n",
      "\n"
     ]
    },
    {
     "data": {
      "text/plain": [
       "((7268, 6), (7268, 68, 14))"
      ]
     },
     "execution_count": 39,
     "metadata": {},
     "output_type": "execute_result"
    }
   ],
   "source": [
    "test_data, x_test = data.new_x(arn_test)\n",
    "test_data.shape, x_test.shape"
   ]
  },
  {
   "cell_type": "code",
   "execution_count": 25,
   "metadata": {},
   "outputs": [],
   "source": [
    "def prediction(x_new, keras_models):\n",
    "    y_new = {}\n",
    "    for mdl in keras_models:\n",
    "        mdl = 'model_simple'\n",
    "        y_new[mdl] = keras_models[mdl].predict(x_new)\n",
    "        break\n",
    "    \n",
    "    return y_new\n",
    "\n",
    "predict = prediction(x_new, keras_models)"
   ]
  },
  {
   "cell_type": "code",
   "execution_count": 34,
   "metadata": {},
   "outputs": [
    {
     "name": "stdout",
     "output_type": "stream",
     "text": [
      "(6639, 68, 5)\n"
     ]
    }
   ],
   "source": [
    "for mdl in predict:\n",
    "    print(predict[mdl].shape)"
   ]
  },
  {
   "cell_type": "code",
   "execution_count": 159,
   "metadata": {},
   "outputs": [],
   "source": [
    "def traiter_predict_output(arn, predict):\n",
    "    output = {}\n",
    "    \n",
    "    for i in range(0, len(predict), 2):\n",
    "        seq_length = arn['seq_length'][i]\n",
    "        prot = arn['id'][i]\n",
    "    \n",
    "        output[prot] = {'reactivity': [], 'deg_Mg_pH10': [], 'deg_pH10': [], 'deg_Mg_50C': [], 'deg_50C': []}\n",
    "    \n",
    "        if seq_length == 107:\n",
    "            \n",
    "            # Ajout des 39 premiers éléments du segment 1\n",
    "            for index, key in enumerate(output[prot].keys()):\n",
    "                for ele in predict[i][:,index][:39]:\n",
    "                    output[prot][key].append(ele)\n",
    "            \n",
    "            # Ajout des 29 éléments en commun entre segment 1 & 2\n",
    "            # Ici une moyenne des valeurs observées à une position donnée est faite\n",
    "            for index, key in enumerate(output[prot].keys()):\n",
    "                sum_ = np.add(predict[i][:,index][39:], predict[i+1][:,index][:29])\n",
    "                mean_ = np.divide(sum_, 2)\n",
    "                for ele in mean_:\n",
    "                    output[prot][key].append(ele)\n",
    "            \n",
    "            # Ajout des 39 derniers éléments du segment 2\n",
    "            for key in output[prot]:\n",
    "                for ele in predict[i+1][:,index][29:]:\n",
    "                    output[prot][key].append(ele)\n",
    "            \n",
    "        else:\n",
    "            # Ajout des 62 premiers éléments du segment 1\n",
    "            for index, key in enumerate(output[prot].keys()):\n",
    "                for ele in predict[i][:,index][:62]:\n",
    "                    output[prot][key].append(ele)\n",
    "            \n",
    "            # Ajout des 6 éléments en commun entre segment 1 & 2\n",
    "            # Ici une moyenne des valeurs observées à une position donnée est faite\n",
    "            for index, key in enumerate(output[prot].keys()):\n",
    "                sum_ = np.add(predict[i][:,index][62:], predict[i+1][:,index][:6])\n",
    "                mean_ = np.divide(sum_, 2)\n",
    "                for ele in mean_:\n",
    "                    output[prot][key].append(ele)\n",
    "            \n",
    "            # Ajout des 62 derniers éléments du segment 2\n",
    "            for key in output[prot]:\n",
    "                for ele in predict[i+1][:,index][6:]:\n",
    "                    output[prot][key].append(ele)\n",
    "    \n",
    "    return output\n",
    "\n",
    "output = traiter_output(test_data, y_train)"
   ]
  },
  {
   "cell_type": "code",
   "execution_count": 160,
   "metadata": {},
   "outputs": [
    {
     "data": {
      "text/plain": [
       "1589"
      ]
     },
     "execution_count": 160,
     "metadata": {},
     "output_type": "execute_result"
    }
   ],
   "source": [
    "len(output)"
   ]
  },
  {
   "cell_type": "code",
   "execution_count": 165,
   "metadata": {},
   "outputs": [
    {
     "name": "stdout",
     "output_type": "stream",
     "text": [
      "id_00073f8be_0 0.3297 0.7556 2.3375 0.35810000000000003 0.6382\n"
     ]
    }
   ],
   "source": [
    "for prot in output:\n",
    "    for i in range(len(output[prot]['reactivity'])):\n",
    "        print(\"{}_{} {} {} {} {} {}\".format(prot, i, \n",
    "                                            output[prot]['reactivity'][i],\n",
    "                                            output[prot]['deg_Mg_pH10'][i],\n",
    "                                            output[prot]['deg_pH10'][i],\n",
    "                                            output[prot]['deg_Mg_50C'][i],\n",
    "                                            output[prot]['deg_50C'][i]))\n",
    "        break\n",
    "    break"
   ]
  },
  {
   "cell_type": "code",
   "execution_count": 169,
   "metadata": {},
   "outputs": [],
   "source": [
    "def write_submission(output):\n",
    "    with open('submission.csv', 'w') as filout:\n",
    "        fields = ['id_seqpos', 'reactivity', 'deg_Mg_pH10', 'deg_pH10', 'deg_Mg_50C', 'deg_50C']\n",
    "        f_writer = csv.DictWriter(filout, fieldnames=fields)\n",
    "        f_writer.writeheader()\n",
    "    \n",
    "        for prot in output:\n",
    "            for i in range(len(output[prot]['reactivity'])):\n",
    "                data = {\n",
    "                    'id_seqpos': f\"{prot}_{i}\",\n",
    "                    'reactivity': output[prot]['reactivity'][i], \n",
    "                    'deg_Mg_pH10': output[prot]['deg_Mg_pH10'][i], \n",
    "                    'deg_pH10': output[prot]['deg_pH10'][i], \n",
    "                    'deg_Mg_50C': output[prot]['deg_Mg_50C'][i], \n",
    "                    'deg_50C': output[prot]['deg_50C'][i]\n",
    "                }\n",
    "                f_writer.writerow(data)\n",
    "write_submission(output)"
   ]
  }
 ],
 "metadata": {
  "kernelspec": {
   "display_name": "Python 3",
   "language": "python",
   "name": "python3"
  },
  "language_info": {
   "codemirror_mode": {
    "name": "ipython",
    "version": 3
   },
   "file_extension": ".py",
   "mimetype": "text/x-python",
   "name": "python",
   "nbconvert_exporter": "python",
   "pygments_lexer": "ipython3",
   "version": "3.7.9"
  }
 },
 "nbformat": 4,
 "nbformat_minor": 4
}
