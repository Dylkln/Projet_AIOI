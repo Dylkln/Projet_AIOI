{
 "cells": [
  {
   "cell_type": "markdown",
   "metadata": {},
   "source": [
    "# Projet AIOI\n",
    "\n",
    "https://www.kaggle.com/c/stanford-covid-vaccine"
   ]
  },
  {
   "cell_type": "markdown",
   "metadata": {},
   "source": [
    "## Les imports"
   ]
  },
  {
   "cell_type": "code",
   "execution_count": 70,
   "metadata": {},
   "outputs": [],
   "source": [
    "%%capture\n",
    "\n",
    "import numpy as np\n",
    "import pandas as pd\n",
    "from collections import Counter\n",
    "from keras import models\n",
    "from keras import layers\n",
    "from keras import optimizers\n",
    "from keras.utils import to_categorical\n",
    "from keras.utils.vis_utils import plot_model\n",
    "from keras.wrappers.scikit_learn import KerasClassifier\n",
    "import matplotlib.pyplot as plt\n",
    "from sklearn.model_selection import cross_val_score, KFold, train_test_split\n",
    "import tensorflow as tf\n",
    "\n",
    "# Modules\n",
    "from __modules__.file import read_json, read_npy\n",
    "import __modules__.visualisation as plot"
   ]
  },
  {
   "cell_type": "markdown",
   "metadata": {},
   "source": [
    "## Charger les données"
   ]
  },
  {
   "cell_type": "code",
   "execution_count": 2,
   "metadata": {},
   "outputs": [],
   "source": [
    "arn_train = read_json('../Data/train.json')\n",
    "arn_test = read_json('../Data/test.json')"
   ]
  },
  {
   "cell_type": "code",
   "execution_count": 3,
   "metadata": {},
   "outputs": [
    {
     "data": {
      "text/plain": [
       "(Index(['index', 'id', 'sequence', 'structure', 'predicted_loop_type',\n",
       "        'signal_to_noise', 'SN_filter', 'seq_length', 'seq_scored',\n",
       "        'reactivity_error', 'deg_error_Mg_pH10', 'deg_error_pH10',\n",
       "        'deg_error_Mg_50C', 'deg_error_50C', 'reactivity', 'deg_Mg_pH10',\n",
       "        'deg_pH10', 'deg_Mg_50C', 'deg_50C'],\n",
       "       dtype='object'),\n",
       " Index(['index', 'id', 'sequence', 'structure', 'predicted_loop_type',\n",
       "        'seq_length', 'seq_scored'],\n",
       "       dtype='object'))"
      ]
     },
     "execution_count": 3,
     "metadata": {},
     "output_type": "execute_result"
    }
   ],
   "source": [
    "arn_train.columns, arn_test.columns"
   ]
  },
  {
   "cell_type": "markdown",
   "metadata": {},
   "source": [
    "## Les données"
   ]
  },
  {
   "cell_type": "code",
   "execution_count": 4,
   "metadata": {},
   "outputs": [
    {
     "data": {
      "text/plain": [
       "((2400, 19), 2400, (3634, 7))"
      ]
     },
     "execution_count": 4,
     "metadata": {},
     "output_type": "execute_result"
    }
   ],
   "source": [
    "arn_train.shape, arn_train['id'].nunique(), arn_test.shape"
   ]
  },
  {
   "cell_type": "markdown",
   "metadata": {},
   "source": [
    "<div class=\"alert alert-block alert-warning\">\n",
    "    Nettoyer les données, i.e ne prendre en compte que les ARN qui ont un <bold>SN_filter de 1<bold>\n",
    "</div>"
   ]
  },
  {
   "cell_type": "code",
   "execution_count": 5,
   "metadata": {},
   "outputs": [
    {
     "data": {
      "text/plain": [
       "(1589, 19)"
      ]
     },
     "execution_count": 5,
     "metadata": {},
     "output_type": "execute_result"
    }
   ],
   "source": [
    "arn_train = arn_train.query('SN_filter == 1')\n",
    "arn_train.shape"
   ]
  },
  {
   "cell_type": "code",
   "execution_count": 6,
   "metadata": {},
   "outputs": [
    {
     "data": {
      "text/html": [
       "<div>\n",
       "<style scoped>\n",
       "    .dataframe tbody tr th:only-of-type {\n",
       "        vertical-align: middle;\n",
       "    }\n",
       "\n",
       "    .dataframe tbody tr th {\n",
       "        vertical-align: top;\n",
       "    }\n",
       "\n",
       "    .dataframe thead th {\n",
       "        text-align: right;\n",
       "    }\n",
       "</style>\n",
       "<table border=\"1\" class=\"dataframe\">\n",
       "  <thead>\n",
       "    <tr style=\"text-align: right;\">\n",
       "      <th></th>\n",
       "      <th>index</th>\n",
       "      <th>id</th>\n",
       "      <th>sequence</th>\n",
       "      <th>structure</th>\n",
       "      <th>predicted_loop_type</th>\n",
       "      <th>signal_to_noise</th>\n",
       "      <th>SN_filter</th>\n",
       "      <th>seq_length</th>\n",
       "      <th>seq_scored</th>\n",
       "      <th>reactivity_error</th>\n",
       "      <th>deg_error_Mg_pH10</th>\n",
       "      <th>deg_error_pH10</th>\n",
       "      <th>deg_error_Mg_50C</th>\n",
       "      <th>deg_error_50C</th>\n",
       "      <th>reactivity</th>\n",
       "      <th>deg_Mg_pH10</th>\n",
       "      <th>deg_pH10</th>\n",
       "      <th>deg_Mg_50C</th>\n",
       "      <th>deg_50C</th>\n",
       "    </tr>\n",
       "  </thead>\n",
       "  <tbody>\n",
       "    <tr>\n",
       "      <th>0</th>\n",
       "      <td>0</td>\n",
       "      <td>id_001f94081</td>\n",
       "      <td>GGAAAAGCUCUAAUAACAGGAGACUAGGACUACGUAUUUCUAGGUA...</td>\n",
       "      <td>.....((((((.......)))).)).((.....((..((((((......</td>\n",
       "      <td>EEEEESSSSSSHHHHHHHSSSSBSSXSSIIIIISSIISSSSSSHHH...</td>\n",
       "      <td>6.894</td>\n",
       "      <td>1</td>\n",
       "      <td>107</td>\n",
       "      <td>68</td>\n",
       "      <td>[0.1359, 0.20700000000000002, 0.1633, 0.1452, ...</td>\n",
       "      <td>[0.26130000000000003, 0.38420000000000004, 0.1...</td>\n",
       "      <td>[0.2631, 0.28600000000000003, 0.0964, 0.1574, ...</td>\n",
       "      <td>[0.1501, 0.275, 0.0947, 0.18660000000000002, 0...</td>\n",
       "      <td>[0.2167, 0.34750000000000003, 0.188, 0.2124, 0...</td>\n",
       "      <td>[0.3297, 1.5693000000000001, 1.1227, 0.8686, 0...</td>\n",
       "      <td>[0.7556, 2.983, 0.2526, 1.3789, 0.637600000000...</td>\n",
       "      <td>[2.3375, 3.5060000000000002, 0.3008, 1.0108, 0...</td>\n",
       "      <td>[0.35810000000000003, 2.9683, 0.2589, 1.4552, ...</td>\n",
       "      <td>[0.6382, 3.4773, 0.9988, 1.3228, 0.78770000000...</td>\n",
       "    </tr>\n",
       "    <tr>\n",
       "      <th>2</th>\n",
       "      <td>2</td>\n",
       "      <td>id_006f36f57</td>\n",
       "      <td>GGAAAGUGCUCAGAUAAGCUAAGCUCGAAUAGCAAUCGAAUAGAAU...</td>\n",
       "      <td>.....((((.((.....((((.(((.....)))..((((......)...</td>\n",
       "      <td>EEEEESSSSISSIIIIISSSSMSSSHHHHHSSSMMSSSSHHHHHHS...</td>\n",
       "      <td>8.800</td>\n",
       "      <td>1</td>\n",
       "      <td>107</td>\n",
       "      <td>68</td>\n",
       "      <td>[0.0931, 0.13290000000000002, 0.11280000000000...</td>\n",
       "      <td>[0.1365, 0.2237, 0.1812, 0.1333, 0.1148, 0.160...</td>\n",
       "      <td>[0.17020000000000002, 0.178, 0.111, 0.091, 0.0...</td>\n",
       "      <td>[0.1033, 0.1464, 0.1126, 0.09620000000000001, ...</td>\n",
       "      <td>[0.14980000000000002, 0.1761, 0.1517, 0.116700...</td>\n",
       "      <td>[0.44820000000000004, 1.4822, 1.1819, 0.743400...</td>\n",
       "      <td>[0.2504, 1.4021, 0.9804, 0.49670000000000003, ...</td>\n",
       "      <td>[2.243, 2.9361, 1.0553, 0.721, 0.6396000000000...</td>\n",
       "      <td>[0.5163, 1.6823000000000001, 1.0426, 0.7902, 0...</td>\n",
       "      <td>[0.9501000000000001, 1.7974999999999999, 1.499...</td>\n",
       "    </tr>\n",
       "    <tr>\n",
       "      <th>5</th>\n",
       "      <td>5</td>\n",
       "      <td>id_00ab2d761</td>\n",
       "      <td>GGAAAGCGCCGCGGCGGUAGCGGCAGCGAGGAGCGCUACCAAGGCA...</td>\n",
       "      <td>.....(.(((((.(((((((((...........)))))))..(((....</td>\n",
       "      <td>EEEEESISSSSSISSSSSSSSSHHHHHHHHHHHSSSSSSSMMSSSH...</td>\n",
       "      <td>4.136</td>\n",
       "      <td>1</td>\n",
       "      <td>107</td>\n",
       "      <td>68</td>\n",
       "      <td>[0.1942, 0.2041, 0.1626, 0.1213, 0.10590000000...</td>\n",
       "      <td>[0.2726, 0.2984, 0.21660000000000001, 0.1637, ...</td>\n",
       "      <td>[0.3393, 0.2728, 0.2005, 0.1703, 0.1495, 0.134...</td>\n",
       "      <td>[0.165, 0.20520000000000002, 0.179, 0.1333, 0....</td>\n",
       "      <td>[0.2864, 0.24710000000000001, 0.2222, 0.1903, ...</td>\n",
       "      <td>[0.7642, 1.6641, 1.0622, 0.5008, 0.4107, 0.133...</td>\n",
       "      <td>[0.9559000000000001, 1.9442, 1.0114, 0.5105000...</td>\n",
       "      <td>[1.9554, 2.1298, 1.0403, 0.609, 0.5486, 0.386,...</td>\n",
       "      <td>[0.22460000000000002, 1.7281, 1.381, 0.6623, 0...</td>\n",
       "      <td>[0.5882000000000001, 1.1786, 0.9704, 0.6035, 0...</td>\n",
       "    </tr>\n",
       "    <tr>\n",
       "      <th>6</th>\n",
       "      <td>6</td>\n",
       "      <td>id_00abef1d7</td>\n",
       "      <td>GGAAAACAAUUGCAUCGUUAGUACGACUCCACAGCGUAAGCUGUGG...</td>\n",
       "      <td>.........((((((((......((((((((((((....)))))))...</td>\n",
       "      <td>EEEEEEEEESSSSSSSSIIIIIISSSSSSSSSSSSHHHHSSSSSSS...</td>\n",
       "      <td>2.485</td>\n",
       "      <td>1</td>\n",
       "      <td>107</td>\n",
       "      <td>68</td>\n",
       "      <td>[0.422, 0.5478000000000001, 0.4749000000000000...</td>\n",
       "      <td>[0.4801, 0.7943, 0.42160000000000003, 0.397300...</td>\n",
       "      <td>[0.9822000000000001, 1.272, 0.6940000000000001...</td>\n",
       "      <td>[0.5827, 0.7555000000000001, 0.5949, 0.4511, 0...</td>\n",
       "      <td>[0.9306000000000001, 1.0496, 0.5844, 0.7796000...</td>\n",
       "      <td>[0.895, 2.3377, 2.2305, 2.003, 1.9006, 1.0373,...</td>\n",
       "      <td>[0.46040000000000003, 3.6695, 0.78550000000000...</td>\n",
       "      <td>[2.7711, 7.365, 1.6924000000000001, 1.43840000...</td>\n",
       "      <td>[1.073, 2.8604000000000003, 1.9936, 1.0273, 1....</td>\n",
       "      <td>[2.0964, 3.3688000000000002, 0.6399, 2.1053, 1...</td>\n",
       "    </tr>\n",
       "    <tr>\n",
       "      <th>7</th>\n",
       "      <td>7</td>\n",
       "      <td>id_00b436dec</td>\n",
       "      <td>GGAAAUCAUCGAGGACGGGUCCGUUCAGCACGCGAAAGCGUCGUGA...</td>\n",
       "      <td>.....(((((((((((..(((((((((..((((....))))..)))...</td>\n",
       "      <td>EEEEESSSSSSSSSSSIISSSSSSSSSIISSSSHHHHSSSSIISSS...</td>\n",
       "      <td>1.727</td>\n",
       "      <td>1</td>\n",
       "      <td>107</td>\n",
       "      <td>68</td>\n",
       "      <td>[0.4843, 0.5233, 0.4554, 0.43520000000000003, ...</td>\n",
       "      <td>[0.8719, 1.0307, 0.6649, 0.34500000000000003, ...</td>\n",
       "      <td>[0.7045, 0.7775000000000001, 0.5662, 0.4561, 0...</td>\n",
       "      <td>[0.384, 0.723, 0.4766, 0.30260000000000004, 0....</td>\n",
       "      <td>[0.7429, 0.9137000000000001, 0.480400000000000...</td>\n",
       "      <td>[1.1576, 1.5137, 1.3382, 1.5622, 1.2121, 0.295...</td>\n",
       "      <td>[1.6912, 5.2652, 2.3901, 0.45890000000000003, ...</td>\n",
       "      <td>[1.8641, 2.3767, 1.149, 1.0132, 0.9876, 0.0, 0...</td>\n",
       "      <td>[0.49060000000000004, 4.6339, 1.95860000000000...</td>\n",
       "      <td>[1.2852000000000001, 2.5460000000000003, 0.234...</td>\n",
       "    </tr>\n",
       "  </tbody>\n",
       "</table>\n",
       "</div>"
      ],
      "text/plain": [
       "   index            id                                           sequence  \\\n",
       "0      0  id_001f94081  GGAAAAGCUCUAAUAACAGGAGACUAGGACUACGUAUUUCUAGGUA...   \n",
       "2      2  id_006f36f57  GGAAAGUGCUCAGAUAAGCUAAGCUCGAAUAGCAAUCGAAUAGAAU...   \n",
       "5      5  id_00ab2d761  GGAAAGCGCCGCGGCGGUAGCGGCAGCGAGGAGCGCUACCAAGGCA...   \n",
       "6      6  id_00abef1d7  GGAAAACAAUUGCAUCGUUAGUACGACUCCACAGCGUAAGCUGUGG...   \n",
       "7      7  id_00b436dec  GGAAAUCAUCGAGGACGGGUCCGUUCAGCACGCGAAAGCGUCGUGA...   \n",
       "\n",
       "                                           structure  \\\n",
       "0  .....((((((.......)))).)).((.....((..((((((......   \n",
       "2  .....((((.((.....((((.(((.....)))..((((......)...   \n",
       "5  .....(.(((((.(((((((((...........)))))))..(((....   \n",
       "6  .........((((((((......((((((((((((....)))))))...   \n",
       "7  .....(((((((((((..(((((((((..((((....))))..)))...   \n",
       "\n",
       "                                 predicted_loop_type  signal_to_noise  \\\n",
       "0  EEEEESSSSSSHHHHHHHSSSSBSSXSSIIIIISSIISSSSSSHHH...            6.894   \n",
       "2  EEEEESSSSISSIIIIISSSSMSSSHHHHHSSSMMSSSSHHHHHHS...            8.800   \n",
       "5  EEEEESISSSSSISSSSSSSSSHHHHHHHHHHHSSSSSSSMMSSSH...            4.136   \n",
       "6  EEEEEEEEESSSSSSSSIIIIIISSSSSSSSSSSSHHHHSSSSSSS...            2.485   \n",
       "7  EEEEESSSSSSSSSSSIISSSSSSSSSIISSSSHHHHSSSSIISSS...            1.727   \n",
       "\n",
       "   SN_filter  seq_length  seq_scored  \\\n",
       "0          1         107          68   \n",
       "2          1         107          68   \n",
       "5          1         107          68   \n",
       "6          1         107          68   \n",
       "7          1         107          68   \n",
       "\n",
       "                                    reactivity_error  \\\n",
       "0  [0.1359, 0.20700000000000002, 0.1633, 0.1452, ...   \n",
       "2  [0.0931, 0.13290000000000002, 0.11280000000000...   \n",
       "5  [0.1942, 0.2041, 0.1626, 0.1213, 0.10590000000...   \n",
       "6  [0.422, 0.5478000000000001, 0.4749000000000000...   \n",
       "7  [0.4843, 0.5233, 0.4554, 0.43520000000000003, ...   \n",
       "\n",
       "                                   deg_error_Mg_pH10  \\\n",
       "0  [0.26130000000000003, 0.38420000000000004, 0.1...   \n",
       "2  [0.1365, 0.2237, 0.1812, 0.1333, 0.1148, 0.160...   \n",
       "5  [0.2726, 0.2984, 0.21660000000000001, 0.1637, ...   \n",
       "6  [0.4801, 0.7943, 0.42160000000000003, 0.397300...   \n",
       "7  [0.8719, 1.0307, 0.6649, 0.34500000000000003, ...   \n",
       "\n",
       "                                      deg_error_pH10  \\\n",
       "0  [0.2631, 0.28600000000000003, 0.0964, 0.1574, ...   \n",
       "2  [0.17020000000000002, 0.178, 0.111, 0.091, 0.0...   \n",
       "5  [0.3393, 0.2728, 0.2005, 0.1703, 0.1495, 0.134...   \n",
       "6  [0.9822000000000001, 1.272, 0.6940000000000001...   \n",
       "7  [0.7045, 0.7775000000000001, 0.5662, 0.4561, 0...   \n",
       "\n",
       "                                    deg_error_Mg_50C  \\\n",
       "0  [0.1501, 0.275, 0.0947, 0.18660000000000002, 0...   \n",
       "2  [0.1033, 0.1464, 0.1126, 0.09620000000000001, ...   \n",
       "5  [0.165, 0.20520000000000002, 0.179, 0.1333, 0....   \n",
       "6  [0.5827, 0.7555000000000001, 0.5949, 0.4511, 0...   \n",
       "7  [0.384, 0.723, 0.4766, 0.30260000000000004, 0....   \n",
       "\n",
       "                                       deg_error_50C  \\\n",
       "0  [0.2167, 0.34750000000000003, 0.188, 0.2124, 0...   \n",
       "2  [0.14980000000000002, 0.1761, 0.1517, 0.116700...   \n",
       "5  [0.2864, 0.24710000000000001, 0.2222, 0.1903, ...   \n",
       "6  [0.9306000000000001, 1.0496, 0.5844, 0.7796000...   \n",
       "7  [0.7429, 0.9137000000000001, 0.480400000000000...   \n",
       "\n",
       "                                          reactivity  \\\n",
       "0  [0.3297, 1.5693000000000001, 1.1227, 0.8686, 0...   \n",
       "2  [0.44820000000000004, 1.4822, 1.1819, 0.743400...   \n",
       "5  [0.7642, 1.6641, 1.0622, 0.5008, 0.4107, 0.133...   \n",
       "6  [0.895, 2.3377, 2.2305, 2.003, 1.9006, 1.0373,...   \n",
       "7  [1.1576, 1.5137, 1.3382, 1.5622, 1.2121, 0.295...   \n",
       "\n",
       "                                         deg_Mg_pH10  \\\n",
       "0  [0.7556, 2.983, 0.2526, 1.3789, 0.637600000000...   \n",
       "2  [0.2504, 1.4021, 0.9804, 0.49670000000000003, ...   \n",
       "5  [0.9559000000000001, 1.9442, 1.0114, 0.5105000...   \n",
       "6  [0.46040000000000003, 3.6695, 0.78550000000000...   \n",
       "7  [1.6912, 5.2652, 2.3901, 0.45890000000000003, ...   \n",
       "\n",
       "                                            deg_pH10  \\\n",
       "0  [2.3375, 3.5060000000000002, 0.3008, 1.0108, 0...   \n",
       "2  [2.243, 2.9361, 1.0553, 0.721, 0.6396000000000...   \n",
       "5  [1.9554, 2.1298, 1.0403, 0.609, 0.5486, 0.386,...   \n",
       "6  [2.7711, 7.365, 1.6924000000000001, 1.43840000...   \n",
       "7  [1.8641, 2.3767, 1.149, 1.0132, 0.9876, 0.0, 0...   \n",
       "\n",
       "                                          deg_Mg_50C  \\\n",
       "0  [0.35810000000000003, 2.9683, 0.2589, 1.4552, ...   \n",
       "2  [0.5163, 1.6823000000000001, 1.0426, 0.7902, 0...   \n",
       "5  [0.22460000000000002, 1.7281, 1.381, 0.6623, 0...   \n",
       "6  [1.073, 2.8604000000000003, 1.9936, 1.0273, 1....   \n",
       "7  [0.49060000000000004, 4.6339, 1.95860000000000...   \n",
       "\n",
       "                                             deg_50C  \n",
       "0  [0.6382, 3.4773, 0.9988, 1.3228, 0.78770000000...  \n",
       "2  [0.9501000000000001, 1.7974999999999999, 1.499...  \n",
       "5  [0.5882000000000001, 1.1786, 0.9704, 0.6035, 0...  \n",
       "6  [2.0964, 3.3688000000000002, 0.6399, 2.1053, 1...  \n",
       "7  [1.2852000000000001, 2.5460000000000003, 0.234...  "
      ]
     },
     "execution_count": 6,
     "metadata": {},
     "output_type": "execute_result"
    }
   ],
   "source": [
    "arn_train.head()"
   ]
  },
  {
   "cell_type": "code",
   "execution_count": 7,
   "metadata": {},
   "outputs": [
    {
     "data": {
      "text/html": [
       "<div>\n",
       "<style scoped>\n",
       "    .dataframe tbody tr th:only-of-type {\n",
       "        vertical-align: middle;\n",
       "    }\n",
       "\n",
       "    .dataframe tbody tr th {\n",
       "        vertical-align: top;\n",
       "    }\n",
       "\n",
       "    .dataframe thead th {\n",
       "        text-align: right;\n",
       "    }\n",
       "</style>\n",
       "<table border=\"1\" class=\"dataframe\">\n",
       "  <thead>\n",
       "    <tr style=\"text-align: right;\">\n",
       "      <th></th>\n",
       "      <th>index</th>\n",
       "      <th>id</th>\n",
       "      <th>sequence</th>\n",
       "      <th>structure</th>\n",
       "      <th>predicted_loop_type</th>\n",
       "      <th>seq_length</th>\n",
       "      <th>seq_scored</th>\n",
       "    </tr>\n",
       "  </thead>\n",
       "  <tbody>\n",
       "    <tr>\n",
       "      <th>0</th>\n",
       "      <td>0</td>\n",
       "      <td>id_00073f8be</td>\n",
       "      <td>GGAAAAGUACGACUUGAGUACGGAAAACGUACCAACUCGAUUAAAA...</td>\n",
       "      <td>......((((((((((.(((((.....))))))))((((((((......</td>\n",
       "      <td>EEEEEESSSSSSSSSSBSSSSSHHHHHSSSSSSSSSSSSSSSSHHH...</td>\n",
       "      <td>107</td>\n",
       "      <td>68</td>\n",
       "    </tr>\n",
       "    <tr>\n",
       "      <th>1</th>\n",
       "      <td>1</td>\n",
       "      <td>id_000ae4237</td>\n",
       "      <td>GGAAACGGGUUCCGCGGAUUGCUGCUAAUAAGAGUAAUCUCUAAAU...</td>\n",
       "      <td>.....((((..((((((...(((((.....((((....)))).......</td>\n",
       "      <td>EEEEESSSSIISSSSSSIIISSSSSIIIIISSSSHHHHSSSSIIII...</td>\n",
       "      <td>130</td>\n",
       "      <td>91</td>\n",
       "    </tr>\n",
       "    <tr>\n",
       "      <th>2</th>\n",
       "      <td>2</td>\n",
       "      <td>id_00131c573</td>\n",
       "      <td>GGAAAACAAAACGGCCUGGAAGACGAAGGAAUUCGGCGCGAAGGCC...</td>\n",
       "      <td>...........((.(((.(.(..((..((..((((...))))..))...</td>\n",
       "      <td>EEEEEEEEEEESSISSSISISIISSIISSIISSSSHHHSSSSIISS...</td>\n",
       "      <td>107</td>\n",
       "      <td>68</td>\n",
       "    </tr>\n",
       "    <tr>\n",
       "      <th>3</th>\n",
       "      <td>3</td>\n",
       "      <td>id_00181fd34</td>\n",
       "      <td>GGAAAGGAUCUCUAUCGAAGGAUAGAGAUCGCUCGCGACGGCACGA...</td>\n",
       "      <td>......((((((((((....))))))))))((((((..((.(((.....</td>\n",
       "      <td>EEEEEESSSSSSSSSSHHHHSSSSSSSSSSSSSSSSIISSISSSHH...</td>\n",
       "      <td>107</td>\n",
       "      <td>68</td>\n",
       "    </tr>\n",
       "    <tr>\n",
       "      <th>4</th>\n",
       "      <td>4</td>\n",
       "      <td>id_0020473f7</td>\n",
       "      <td>GGAAACCCGCCCGCGCCCGCCCGCGCUGCUGCCGUGCCUCCUCUCC...</td>\n",
       "      <td>.....(((((((((((((((((((((((((((((((((((((((((...</td>\n",
       "      <td>EEEEESSSSSSSSSSSSSSSSSSSSSSSSSSSSSSSSSSSSSSSSS...</td>\n",
       "      <td>130</td>\n",
       "      <td>91</td>\n",
       "    </tr>\n",
       "  </tbody>\n",
       "</table>\n",
       "</div>"
      ],
      "text/plain": [
       "   index            id                                           sequence  \\\n",
       "0      0  id_00073f8be  GGAAAAGUACGACUUGAGUACGGAAAACGUACCAACUCGAUUAAAA...   \n",
       "1      1  id_000ae4237  GGAAACGGGUUCCGCGGAUUGCUGCUAAUAAGAGUAAUCUCUAAAU...   \n",
       "2      2  id_00131c573  GGAAAACAAAACGGCCUGGAAGACGAAGGAAUUCGGCGCGAAGGCC...   \n",
       "3      3  id_00181fd34  GGAAAGGAUCUCUAUCGAAGGAUAGAGAUCGCUCGCGACGGCACGA...   \n",
       "4      4  id_0020473f7  GGAAACCCGCCCGCGCCCGCCCGCGCUGCUGCCGUGCCUCCUCUCC...   \n",
       "\n",
       "                                           structure  \\\n",
       "0  ......((((((((((.(((((.....))))))))((((((((......   \n",
       "1  .....((((..((((((...(((((.....((((....)))).......   \n",
       "2  ...........((.(((.(.(..((..((..((((...))))..))...   \n",
       "3  ......((((((((((....))))))))))((((((..((.(((.....   \n",
       "4  .....(((((((((((((((((((((((((((((((((((((((((...   \n",
       "\n",
       "                                 predicted_loop_type  seq_length  seq_scored  \n",
       "0  EEEEEESSSSSSSSSSBSSSSSHHHHHSSSSSSSSSSSSSSSSHHH...         107          68  \n",
       "1  EEEEESSSSIISSSSSSIIISSSSSIIIIISSSSHHHHSSSSIIII...         130          91  \n",
       "2  EEEEEEEEEEESSISSSISISIISSIISSIISSSSHHHSSSSIISS...         107          68  \n",
       "3  EEEEEESSSSSSSSSSHHHHSSSSSSSSSSSSSSSSIISSISSSHH...         107          68  \n",
       "4  EEEEESSSSSSSSSSSSSSSSSSSSSSSSSSSSSSSSSSSSSSSSS...         130          91  "
      ]
     },
     "execution_count": 7,
     "metadata": {},
     "output_type": "execute_result"
    }
   ],
   "source": [
    "arn_test.head()"
   ]
  },
  {
   "cell_type": "code",
   "execution_count": 8,
   "metadata": {},
   "outputs": [
    {
     "data": {
      "text/plain": [
       "(Counter({107: 1589}), Counter({107: 629, 130: 3005}))"
      ]
     },
     "execution_count": 8,
     "metadata": {},
     "output_type": "execute_result"
    }
   ],
   "source": [
    "Counter(arn_train['seq_length']), Counter(arn_test['seq_length'])"
   ]
  },
  {
   "cell_type": "markdown",
   "metadata": {},
   "source": [
    "### Input x"
   ]
  },
  {
   "cell_type": "code",
   "execution_count": 9,
   "metadata": {},
   "outputs": [
    {
     "data": {
      "text/plain": [
       "((1589, 3), (629, 3))"
      ]
     },
     "execution_count": 9,
     "metadata": {},
     "output_type": "execute_result"
    }
   ],
   "source": [
    "col_names = ['sequence', 'structure', 'predicted_loop_type']\n",
    "X_train = arn_train[col_names]\n",
    "X_test = arn_test.query('seq_length == 107')[col_names]  # Sélection des séquences qui ont une taille de 107\n",
    "X_train.shape, X_test.shape"
   ]
  },
  {
   "cell_type": "markdown",
   "metadata": {},
   "source": [
    "> One hot encoding des séquences"
   ]
  },
  {
   "cell_type": "code",
   "execution_count": 10,
   "metadata": {},
   "outputs": [
    {
     "data": {
      "text/plain": [
       "((1589, 107, 4), (629, 107, 4))"
      ]
     },
     "execution_count": 10,
     "metadata": {},
     "output_type": "execute_result"
    }
   ],
   "source": [
    "def x_sequence(X):\n",
    "    dico_seq = {'A': 0, 'U': 1, 'G': 2, 'C': 3}\n",
    "    x_seq = []\n",
    "    \n",
    "    for seq in X:\n",
    "        tmp = []\n",
    "        for base in seq:\n",
    "            tmp.append(dico_seq[base])\n",
    "        x_seq.append(to_categorical(tmp, num_classes=4, dtype=int))\n",
    "    \n",
    "    return np.array(x_seq)\n",
    "\n",
    "x_seq_train, x_seq_test = x_sequence(X_train['sequence']), x_sequence(X_test['sequence'])\n",
    "x_seq_train.shape, x_seq_test.shape"
   ]
  },
  {
   "cell_type": "markdown",
   "metadata": {},
   "source": [
    "> One hot encoding des structures"
   ]
  },
  {
   "cell_type": "code",
   "execution_count": 11,
   "metadata": {},
   "outputs": [
    {
     "data": {
      "text/plain": [
       "((1589, 107, 3), (629, 107, 3))"
      ]
     },
     "execution_count": 11,
     "metadata": {},
     "output_type": "execute_result"
    }
   ],
   "source": [
    "def x_structure(X):\n",
    "    dico_struc = {'(': 0, ')': 1, '.': 2}\n",
    "    x_struc = []\n",
    "\n",
    "    for struc in X:\n",
    "        tmp = []\n",
    "        for symbol in struc:\n",
    "            tmp.append(dico_struc[symbol])\n",
    "        x_struc.append(to_categorical(tmp, num_classes=3, dtype=int))\n",
    "    \n",
    "    return np.array(x_struc)\n",
    "\n",
    "x_struc_train, x_struc_test = x_structure(X_train['structure']), x_structure(X_test['structure'])\n",
    "x_struc_train.shape, x_struc_test.shape"
   ]
  },
  {
   "cell_type": "markdown",
   "metadata": {},
   "source": [
    "> One hot encoding des types de boucles prédits"
   ]
  },
  {
   "cell_type": "code",
   "execution_count": 12,
   "metadata": {},
   "outputs": [
    {
     "data": {
      "text/plain": [
       "((1589, 107, 7), (629, 107, 7))"
      ]
     },
     "execution_count": 12,
     "metadata": {},
     "output_type": "execute_result"
    }
   ],
   "source": [
    "def x_predicted_loops(X):\n",
    "    dico_loops = {'S': 0, 'E': 1, 'B': 2, 'H': 3, 'M': 4, 'I': 5, 'X': 6}\n",
    "    x_loops = []\n",
    "\n",
    "    for loops in X:\n",
    "        tmp = []\n",
    "        for loop_type in loops:\n",
    "            tmp.append(dico_loops[loop_type])\n",
    "        x_loops.append(to_categorical(tmp, num_classes=7, dtype=int))\n",
    "        \n",
    "    return np.array(x_loops)\n",
    "\n",
    "x_loops_train, x_loops_test = x_predicted_loops(X_train['predicted_loop_type']), x_predicted_loops(X_test['predicted_loop_type'])\n",
    "x_loops_train.shape, x_loops_test.shape"
   ]
  },
  {
   "cell_type": "markdown",
   "metadata": {},
   "source": [
    "> Regroupement dans une seul matrice de dimension (2400, 107, 14)\n",
    "\n",
    "Avec\n",
    "\n",
    "- 2400: le nombre d'ARN\n",
    "- 107: la taille des séquences\n",
    "- 14: le nombre de classes (4+3+7)"
   ]
  },
  {
   "cell_type": "code",
   "execution_count": 13,
   "metadata": {},
   "outputs": [
    {
     "data": {
      "text/plain": [
       "((1589, 107, 14), (629, 107, 14))"
      ]
     },
     "execution_count": 13,
     "metadata": {},
     "output_type": "execute_result"
    }
   ],
   "source": [
    "def X_concatenation(x_seq, x_struc, x_loops):\n",
    "    x = []\n",
    "    for i in range(len(x_seq)):\n",
    "        x.append(np.concatenate((x_seq[i], x_struc[i], x_loops[i]), axis=1))\n",
    "    return np.array(x)\n",
    "\n",
    "x_train, x_test = X_concatenation(x_seq_train, x_struc_train, x_loops_train), X_concatenation(x_seq_test, x_struc_test, x_loops_test)\n",
    "x_train.shape, x_test.shape"
   ]
  },
  {
   "cell_type": "markdown",
   "metadata": {},
   "source": [
    "### Output y"
   ]
  },
  {
   "cell_type": "code",
   "execution_count": 15,
   "metadata": {},
   "outputs": [
    {
     "data": {
      "text/plain": [
       "(1589, 4)"
      ]
     },
     "execution_count": 15,
     "metadata": {},
     "output_type": "execute_result"
    }
   ],
   "source": [
    "col_names = ['deg_Mg_pH10', 'deg_pH10', 'deg_Mg_50C', 'deg_50C']\n",
    "Y_output = arn_train[col_names]\n",
    "Y_output.shape"
   ]
  },
  {
   "cell_type": "markdown",
   "metadata": {},
   "source": [
    "> Formatage Y_output"
   ]
  },
  {
   "cell_type": "code",
   "execution_count": 16,
   "metadata": {},
   "outputs": [
    {
     "data": {
      "text/plain": [
       "(1589, 68, 4)"
      ]
     },
     "execution_count": 16,
     "metadata": {},
     "output_type": "execute_result"
    }
   ],
   "source": [
    "def formatage_youtput(Y_output):\n",
    "    new_youtput = []\n",
    "    deg_mg_ph = Y_output['deg_Mg_pH10']\n",
    "    deg_ph = Y_output['deg_pH10']\n",
    "    deg_mg_c = Y_output['deg_Mg_50C']\n",
    "    deg_c = Y_output['deg_50C']\n",
    "\n",
    "    for i in Y_output.index:\n",
    "        tmp = []\n",
    "        for j in range(len(deg_c[i])):\n",
    "            tmp.append([deg_mg_ph[i][j], deg_ph[i][j], deg_mg_c[i][j], deg_c[i][j]])\n",
    "        new_youtput.append(tmp)\n",
    "\n",
    "    return np.array(new_youtput)\n",
    "        \n",
    "y_train = formatage_youtput(Y_output)\n",
    "y_train.shape"
   ]
  },
  {
   "cell_type": "markdown",
   "metadata": {},
   "source": [
    "# Modèle keras \n",
    "\n",
    "## Modèle simple"
   ]
  },
  {
   "cell_type": "code",
   "execution_count": 21,
   "metadata": {},
   "outputs": [
    {
     "name": "stdout",
     "output_type": "stream",
     "text": [
      "Model: \"model_2\"\n",
      "__________________________________________________________________________________________________\n",
      "Layer (type)                    Output Shape         Param #     Connected to                     \n",
      "==================================================================================================\n",
      "input_2 (InputLayer)            (None, 107, 14)      0                                            \n",
      "__________________________________________________________________________________________________\n",
      "conv1d_9 (Conv1D)               (None, 107, 107)     4601        input_2[0][0]                    \n",
      "__________________________________________________________________________________________________\n",
      "conv1d_10 (Conv1D)              (None, 107, 107)     34454       conv1d_9[0][0]                   \n",
      "__________________________________________________________________________________________________\n",
      "conv1d_11 (Conv1D)              (None, 107, 107)     34454       conv1d_10[0][0]                  \n",
      "__________________________________________________________________________________________________\n",
      "conv1d_12 (Conv1D)              (None, 107, 107)     34454       conv1d_11[0][0]                  \n",
      "__________________________________________________________________________________________________\n",
      "conv1d_13 (Conv1D)              (None, 107, 107)     34454       conv1d_12[0][0]                  \n",
      "__________________________________________________________________________________________________\n",
      "add_2 (Add)                     (None, 107, 107)     0           conv1d_11[0][0]                  \n",
      "                                                                 conv1d_13[0][0]                  \n",
      "__________________________________________________________________________________________________\n",
      "conv1d_14 (Conv1D)              (None, 88, 4)        8564        add_2[0][0]                      \n",
      "__________________________________________________________________________________________________\n",
      "conv1d_15 (Conv1D)              (None, 69, 4)        324         conv1d_14[0][0]                  \n",
      "__________________________________________________________________________________________________\n",
      "conv1d_16 (Conv1D)              (None, 68, 4)        36          conv1d_15[0][0]                  \n",
      "==================================================================================================\n",
      "Total params: 151,341\n",
      "Trainable params: 151,341\n",
      "Non-trainable params: 0\n",
      "__________________________________________________________________________________________________\n"
     ]
    }
   ],
   "source": [
    "def model_simple():\n",
    "    # Convolution layers \n",
    "    input_ = layers.Input(shape = (107,14))\n",
    "    conv_1 = layers.Conv1D(filters=107, kernel_size=(3,), activation=\"relu\", padding = \"same\")(input_)\n",
    "    conv_2 = layers.Conv1D(filters=107, kernel_size=(3,), activation=\"relu\", padding = \"same\")(conv_1)\n",
    "    conv_3 = layers.Conv1D(filters=107, kernel_size=(3,), activation=\"relu\", padding = \"same\")(conv_2)\n",
    "    \n",
    "    # Resnet layers - simple\n",
    "    resnet = layers.Conv1D(filters=107, kernel_size=(3,), activation=\"relu\", padding = \"same\")(conv_3)\n",
    "    resnet = layers.Conv1D(filters=107, kernel_size=(3,), activation=\"relu\", padding = \"same\")(resnet)\n",
    "    conc_1 = layers.Add()([conv_3, resnet])\n",
    "   \n",
    "    # Output layer - resize shape of the data to fit with the ouput (68,4) \n",
    "    output = layers.Conv1D(filters=4, kernel_size=(20,), activation=\"relu\")(conc_1)\n",
    "    output = layers.Conv1D(filters=4, kernel_size=(20,), activation=\"relu\")(output)\n",
    "    output = layers.Conv1D(filters=4, kernel_size=(2,), activation=\"relu\")(output)\n",
    "\n",
    "    # Compilation\n",
    "    model = models.Model(inputs=input_, outputs=output)\n",
    "    model.compile(loss='mse', optimizer='rmsprop', metrics=['accuracy'])\n",
    "    # model.compile(loss='mean_absolute_error', optimizer='adam', metrics=['accuracy'])\n",
    "    \n",
    "    return model\n",
    "\n",
    "model = model_simple()\n",
    "model.summary()"
   ]
  },
  {
   "cell_type": "code",
   "execution_count": 18,
   "metadata": {},
   "outputs": [
    {
     "data": {
      "image/png": "[encoded data removed]",
      "text/plain": [
       "<IPython.core.display.Image object>"
      ]
     },
     "execution_count": 18,
     "metadata": {},
     "output_type": "execute_result"
    }
   ],
   "source": [
    "plot_model(model)"
   ]
  },
  {
   "cell_type": "code",
   "execution_count": 17,
   "metadata": {},
   "outputs": [
    {
     "name": "stdout",
     "output_type": "stream",
     "text": [
      "Train on 1271 samples, validate on 318 samples\n",
      "Epoch 1/5\n",
      "1271/1271 [==============================] - 5s 4ms/step - loss: 0.2928 - accuracy: 0.3122 - val_loss: 0.2670 - val_accuracy: 0.2782\n",
      "Epoch 2/5\n",
      "1271/1271 [==============================] - 4s 4ms/step - loss: 0.2279 - accuracy: 0.3272 - val_loss: 0.2583 - val_accuracy: 0.2794\n",
      "Epoch 3/5\n",
      "1271/1271 [==============================] - 5s 4ms/step - loss: 0.1899 - accuracy: 0.2714 - val_loss: 0.1815 - val_accuracy: 0.2598\n",
      "Epoch 4/5\n",
      "1271/1271 [==============================] - 4s 3ms/step - loss: 0.1775 - accuracy: 0.2684 - val_loss: 0.1907 - val_accuracy: 0.2791\n",
      "Epoch 5/5\n",
      "1271/1271 [==============================] - 4s 3ms/step - loss: 0.1668 - accuracy: 0.2786 - val_loss: 0.1599 - val_accuracy: 0.2799\n"
     ]
    }
   ],
   "source": [
    "fit_out = model.fit(x=x_train, y=y_train, epochs=5, batch_size=30, verbose=1, validation_split=0.2)"
   ]
  },
  {
   "cell_type": "code",
   "execution_count": 20,
   "metadata": {},
   "outputs": [
    {
     "data": {
      "image/png": "[encoded data removed]",
      "text/plain": [
       "<Figure size 648x432 with 2 Axes>"
      ]
     },
     "metadata": {
      "needs_background": "light"
     },
     "output_type": "display_data"
    },
    {
     "data": {
      "text/plain": [
       "<Figure size 432x288 with 0 Axes>"
      ]
     },
     "metadata": {},
     "output_type": "display_data"
    }
   ],
   "source": [
    "plot.summarize_model(fit_out.history, \"Modèle simple\")"
   ]
  },
  {
   "cell_type": "markdown",
   "metadata": {},
   "source": [
    "> Optimisation à faire\n",
    "\n",
    "- Prise en compte d'un learning rate\n",
    "- Comparaison pour chaque modèle de la loss, val loss, accuracy & val accuracy en fonction d'un learning rate donné => le but ici sera de comparé pour chaque modèle créé le \"meilleur\""
   ]
  },
  {
   "cell_type": "code",
   "execution_count": 104,
   "metadata": {},
   "outputs": [
    {
     "name": "stdout",
     "output_type": "stream",
     "text": [
      "model_simple\n",
      "1 / 6\t2 / 6\t3 / 6\t4 / 6\t5 / 6\t6 / 6\t"
     ]
    }
   ],
   "source": [
    "def resize_shape_data(model):\n",
    "    model = layers.Conv1D(filters=4, kernel_size=(20,), activation=\"relu\")(model)\n",
    "    model = layers.Conv1D(filters=4, kernel_size=(20,), activation=\"relu\")(model)\n",
    "    model = layers.Conv1D(filters=4, kernel_size=(2,), activation=\"relu\")(model)\n",
    "    \n",
    "    return model\n",
    "\n",
    "\n",
    "def model_simple(input_shape, learning_rate):\n",
    "    # Convolution layers \n",
    "    input_ = layers.Input(shape = input_shape)\n",
    "    conv_1 = layers.Conv1D(filters=107, kernel_size=(3,), activation=\"relu\", padding = \"same\")(input_)\n",
    "    conv_2 = layers.Conv1D(filters=107, kernel_size=(3,), activation=\"relu\", padding = \"same\")(conv_1)\n",
    "    conv_3 = layers.Conv1D(filters=107, kernel_size=(3,), activation=\"relu\", padding = \"same\")(conv_2)\n",
    "    \n",
    "    # Resnet layers - simple\n",
    "    resnet = layers.Conv1D(filters=107, kernel_size=(3,), activation=\"relu\", padding = \"same\")(conv_3)\n",
    "    resnet = layers.Conv1D(filters=107, kernel_size=(3,), activation=\"relu\", padding = \"same\")(resnet)\n",
    "    conc_1 = layers.Add()([conv_3, resnet])\n",
    "   \n",
    "    # Output layer - resize shape of the data to fit with the ouput (68,4) \n",
    "    output = resize_shape_data(conc_1)\n",
    "    model = models.Model(inputs=input_, outputs=output)\n",
    "    \n",
    "    # Compilation\n",
    "    opt = optimizers.SGD(lr=learning_rate)\n",
    "    model.compile(loss='mse', optimizer=opt, metrics=['accuracy'])\n",
    "    \n",
    "    return model\n",
    "\n",
    "\n",
    "def define_models(x_train, y_train):\n",
    "    input_shape = (107,14) \n",
    "    learning_rates = [1E-0, 1E-1, 1E-2, 1E-3, 1E-4, 1E-5]  # learning rate à appliquer sur chaque modèle\n",
    "    list_model = [model_simple]  # liste des modèles qu'on va appliquer - 1 seul implémenté pour l'instant\n",
    "    fit_out = {}\n",
    "    \n",
    "    for model in list_model:\n",
    "        fit_out[model.__name__] = []\n",
    "        print(model.__name__)\n",
    "        for lr in learning_rates:\n",
    "            check(learning_rates.index(lr))\n",
    "            mdl = model(input_shape, lr)\n",
    "            # plot_model(model)\n",
    "            fit = mdl.fit(x=x_train, y=y_train, epochs=30, batch_size=30, verbose=0, validation_split=0.2)\n",
    "            fit_out[model.__name__].append(fit)\n",
    "            \n",
    "    return fit_out\n",
    "    \n",
    "def check(i):\n",
    "    print(\"{} / 6\".format(i+1), end=\"\\t\")\n",
    "    \n",
    "fit_out = define_models(x_train, y_train)"
   ]
  },
  {
   "cell_type": "code",
   "execution_count": 105,
   "metadata": {},
   "outputs": [
    {
     "data": {
      "image/png": "[encoded data removed]",
      "text/plain": [
       "<Figure size 1008x576 with 4 Axes>"
      ]
     },
     "metadata": {
      "needs_background": "light"
     },
     "output_type": "display_data"
    }
   ],
   "source": [
    "for mdl, values in fit_out.items():\n",
    "    val_loss, val_accuracy = [], []\n",
    "    loss, accuracy = [], []\n",
    "    for fit in values:\n",
    "        val_loss.append(fit.history['val_loss'])\n",
    "        val_accuracy.append(fit.history['val_accuracy'])\n",
    "        loss.append(fit.history['loss'])\n",
    "        accuracy.append(fit.history['accuracy'])\n",
    "        \n",
    "    label = ['1E-0', '1E-1', '1E-2', '1E-3', '1E-4', '1E-5']\n",
    "    title = ['Val loss', 'Val accuracy', 'Loss', 'Accuracy']\n",
    "    color = ['blue', 'yellow', 'green', '#8b1538', 'grey', 'black']\n",
    "    \n",
    "    fig, axs = plt.subplots(2, 2, figsize=(14,8), constrained_layout=True)\n",
    "\n",
    "    for i in range(len(val_loss)):\n",
    "        axs[0][0].plot(val_loss[i], color=color[i], label=label[i])\n",
    "        axs[0][1].plot(val_accuracy[i], color=color[i], label=label[i])\n",
    "        axs[1][0].plot(loss[i], color=color[i], label=label[i])\n",
    "        axs[1][1].plot(accuracy[i], color=color[i], label=label[i])\n",
    "        \n",
    "    axs[0][0].set_title(title[0])\n",
    "    axs[0][1].set_title(title[1])\n",
    "    axs[1][0].set_title(title[2])\n",
    "    axs[1][1].set_title(title[3])\n",
    "    \n",
    "    # Ajouter la légende au dessus du plot sans changer sa taille\n",
    "    axs[1][1].legend(loc=1, bbox_to_anchor=(0., 0., 1.2, -0.2), ncol=6, \n",
    "               borderaxespad=0., mode='expand', fontsize='medium')\n",
    "        \n",
    "    fig.suptitle(mdl, fontsize=\"x-large\")"
   ]
  }
 ],
 "metadata": {
  "kernelspec": {
   "display_name": "Python 3",
   "language": "python",
   "name": "python3"
  },
  "language_info": {
   "codemirror_mode": {
    "name": "ipython",
    "version": 3
   },
   "file_extension": ".py",
   "mimetype": "text/x-python",
   "name": "python",
   "nbconvert_exporter": "python",
   "pygments_lexer": "ipython3",
   "version": "3.7.8"
  }
 },
 "nbformat": 4,
 "nbformat_minor": 4
}
